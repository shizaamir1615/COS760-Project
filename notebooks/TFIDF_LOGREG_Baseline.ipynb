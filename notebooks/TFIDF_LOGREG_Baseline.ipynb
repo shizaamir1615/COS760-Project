{
  "cells": [
    {
      "cell_type": "code",
      "execution_count": 8,
      "id": "ff462ca7",
      "metadata": {
        "colab": {
          "base_uri": "https://localhost:8080/"
        },
        "id": "ff462ca7",
        "outputId": "694216c2-79d0-4790-9cec-f97bac2b4bb7"
      },
      "outputs": [
        {
          "output_type": "stream",
          "name": "stdout",
          "text": [
            "Requirement already satisfied: pandas in /usr/local/lib/python3.11/dist-packages (2.2.2)\n",
            "Requirement already satisfied: scikit-learn in /usr/local/lib/python3.11/dist-packages (1.6.1)\n",
            "Requirement already satisfied: numpy>=1.23.2 in /usr/local/lib/python3.11/dist-packages (from pandas) (2.0.2)\n",
            "Requirement already satisfied: python-dateutil>=2.8.2 in /usr/local/lib/python3.11/dist-packages (from pandas) (2.9.0.post0)\n",
            "Requirement already satisfied: pytz>=2020.1 in /usr/local/lib/python3.11/dist-packages (from pandas) (2025.2)\n",
            "Requirement already satisfied: tzdata>=2022.7 in /usr/local/lib/python3.11/dist-packages (from pandas) (2025.2)\n",
            "Requirement already satisfied: scipy>=1.6.0 in /usr/local/lib/python3.11/dist-packages (from scikit-learn) (1.15.3)\n",
            "Requirement already satisfied: joblib>=1.2.0 in /usr/local/lib/python3.11/dist-packages (from scikit-learn) (1.5.1)\n",
            "Requirement already satisfied: threadpoolctl>=3.1.0 in /usr/local/lib/python3.11/dist-packages (from scikit-learn) (3.6.0)\n",
            "Requirement already satisfied: six>=1.5 in /usr/local/lib/python3.11/dist-packages (from python-dateutil>=2.8.2->pandas) (1.17.0)\n",
            "Dataset shape: (7379, 8)\n",
            "Label distribution:\n",
            "label\n",
            "0    4366\n",
            "1    3013\n",
            "Name: count, dtype: int64\n",
            "              precision    recall  f1-score   support\n",
            "\n",
            "       Human       0.84      0.95      0.89       873\n",
            "     Machine       0.91      0.74      0.82       603\n",
            "\n",
            "    accuracy                           0.86      1476\n",
            "   macro avg       0.88      0.85      0.85      1476\n",
            "weighted avg       0.87      0.86      0.86      1476\n",
            "\n"
          ]
        }
      ],
      "source": [
        "\n",
        "# Install required packages\n",
        "!pip install pandas scikit-learn\n",
        "\n",
        "import pandas as pd\n",
        "from sklearn.model_selection import train_test_split\n",
        "from sklearn.feature_extraction.text import TfidfVectorizer\n",
        "from sklearn.linear_model import LogisticRegression\n",
        "from sklearn.metrics import classification_report\n",
        "\n",
        "# Load the cleaned combined dataset\n",
        "file_path = \"/content/drive/My Drive/NLP/combined_languages_data_clean.csv\"\n",
        "df = pd.read_csv(file_path)\n",
        "\n",
        "# Use clean_text and map type to binary label\n",
        "df = df.dropna(subset=[\"clean_text\", \"type\"])\n",
        "df = df[df['type'].isin([\"human_text\", \"machine_generated\"])]\n",
        "df['label'] = df['type'].map({'human_text': 0, 'machine_generated': 1})\n",
        "\n",
        "# Filter short texts\n",
        "df = df[df['clean_text'].str.split().str.len() > 10]\n",
        "\n",
        "# Prepare input and output\n",
        "X = df['clean_text']\n",
        "y = df['label']\n",
        "\n",
        "print(f\"Dataset shape: {df.shape}\")\n",
        "print(f\"Label distribution:\\n{df['label'].value_counts()}\")\n",
        "\n",
        "# Split the dataset\n",
        "X_train, X_test, y_train, y_test = train_test_split(\n",
        "    X, y, test_size=0.2, stratify=y, random_state=42\n",
        ")\n",
        "\n",
        "# TF-IDF vectorisation\n",
        "vectorizer = TfidfVectorizer(max_features=3000, min_df=5, ngram_range=(1, 2))\n",
        "X_train_tfidf = vectorizer.fit_transform(X_train)\n",
        "X_test_tfidf = vectorizer.transform(X_test)\n",
        "\n",
        "\n",
        "# Train logistic regression model\n",
        "clf = LogisticRegression(max_iter=300, C=0.5)\n",
        "clf.fit(X_train_tfidf, y_train)\n",
        "\n",
        "# Evaluate\n",
        "y_pred = clf.predict(X_test_tfidf)\n",
        "print(classification_report(y_test, y_pred, target_names=[\"Human\", \"Machine\"]))\n",
        "\n"
      ]
    }
  ],
  "metadata": {
    "colab": {
      "provenance": []
    },
    "language_info": {
      "name": "python"
    },
    "kernelspec": {
      "name": "python3",
      "display_name": "Python 3"
    }
  },
  "nbformat": 4,
  "nbformat_minor": 5
}